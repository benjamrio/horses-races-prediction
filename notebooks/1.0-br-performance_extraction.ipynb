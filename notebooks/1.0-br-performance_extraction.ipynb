{
 "cells": [
  {
   "cell_type": "code",
   "execution_count": 22,
   "metadata": {},
   "outputs": [],
   "source": [
    "import pandas as pd\n",
    "from tqdm import tqdm\n",
    "import glob\n",
    "import json\n",
    "import sys\n",
    "sys.path.insert(0, \"../bin/utils/\")\n",
    "import flatten as flt"
   ]
  },
  {
   "cell_type": "code",
   "execution_count": 23,
   "metadata": {},
   "outputs": [
    {
     "name": "stdout",
     "output_type": "stream",
     "text": [
      "Extraction des données à partir de 33558 fichiers JSON.\n"
     ]
    }
   ],
   "source": [
    "files_paths = glob.glob(\"../data/raw/2016-2018_races/historic/*.json\")\n",
    "print(f\"Extraction des données à partir de {len(files_paths)} fichiers JSON.\")"
   ]
  },
  {
   "cell_type": "markdown",
   "metadata": {},
   "source": [
    "## Performance data extraction\n",
    "Faster to work with homemade dictionnary flattening function than to use `json_normalize()`."
   ]
  },
  {
   "cell_type": "code",
   "execution_count": 24,
   "metadata": {},
   "outputs": [
    {
     "name": "stderr",
     "output_type": "stream",
     "text": [
      "67116it [34:04, 32.82it/s]  \n"
     ]
    }
   ],
   "source": [
    "pbar = tqdm(total=len(files_paths))\n",
    "performances = []\n",
    "for file_path in files_paths:\n",
    "    pbar.update()\n",
    "    with open(file_path, \"r\", encoding=\"utf-8\") as file:\n",
    "        data = json.load(file)\n",
    "        for horse in data[\"partants\"]:\n",
    "            horse_performance = flt.flatten_dic(horse)\n",
    "            horse_performance[\"date\"] = data[\"raceScheduledStartEpochMs\"]\n",
    "            try:\n",
    "                horse_performance[\"priceFirst\"] = data[\"price\"][\"first\"]\n",
    "            except:\n",
    "                pass\n",
    "            \n",
    "            #Des fichiers n'ont pas le genyId comme raceId\n",
    "            try:\n",
    "                horse_performance[\"raceId\"] = data[\"genyId\"]\n",
    "            except:\n",
    "                pass\n",
    "            \n",
    "            performances += [horse_performance]\n",
    "pbar.refresh()\n",
    "df = pd.DataFrame(performances)"
   ]
  },
  {
   "cell_type": "code",
   "execution_count": 27,
   "metadata": {},
   "outputs": [
    {
     "data": {
      "text/html": [
       "<div>\n",
       "<style scoped>\n",
       "    .dataframe tbody tr th:only-of-type {\n",
       "        vertical-align: middle;\n",
       "    }\n",
       "\n",
       "    .dataframe tbody tr th {\n",
       "        vertical-align: top;\n",
       "    }\n",
       "\n",
       "    .dataframe thead th {\n",
       "        text-align: right;\n",
       "    }\n",
       "</style>\n",
       "<table border=\"1\" class=\"dataframe\">\n",
       "  <thead>\n",
       "    <tr style=\"text-align: right;\">\n",
       "      <th></th>\n",
       "      <th>raceId</th>\n",
       "      <th>date</th>\n",
       "      <th>horse.genyId</th>\n",
       "      <th>musique</th>\n",
       "      <th>results.position</th>\n",
       "      <th>priceFirst</th>\n",
       "    </tr>\n",
       "  </thead>\n",
       "  <tbody>\n",
       "    <tr>\n",
       "      <th>403530</th>\n",
       "      <td>950616</td>\n",
       "      <td>1514734200000</td>\n",
       "      <td>2430846.0</td>\n",
       "      <td>3a0a5a0a7a9a4a4a0a6a</td>\n",
       "      <td>2.0</td>\n",
       "      <td>7650.0</td>\n",
       "    </tr>\n",
       "    <tr>\n",
       "      <th>403531</th>\n",
       "      <td>950616</td>\n",
       "      <td>1514734200000</td>\n",
       "      <td>2426161.0</td>\n",
       "      <td>6a1a2aDa0a6a8a5a8a9a</td>\n",
       "      <td>6.0</td>\n",
       "      <td>7650.0</td>\n",
       "    </tr>\n",
       "    <tr>\n",
       "      <th>403532</th>\n",
       "      <td>950616</td>\n",
       "      <td>1514734200000</td>\n",
       "      <td>2410945.0</td>\n",
       "      <td>8a5a2a5a9aDa2a5aDa3a</td>\n",
       "      <td>7.0</td>\n",
       "      <td>7650.0</td>\n",
       "    </tr>\n",
       "    <tr>\n",
       "      <th>403533</th>\n",
       "      <td>950616</td>\n",
       "      <td>1514734200000</td>\n",
       "      <td>2436361.0</td>\n",
       "      <td>3a2aDa2a1a1aDaDaDa4a</td>\n",
       "      <td>3.0</td>\n",
       "      <td>7650.0</td>\n",
       "    </tr>\n",
       "    <tr>\n",
       "      <th>403534</th>\n",
       "      <td>950616</td>\n",
       "      <td>1514734200000</td>\n",
       "      <td>2428745.0</td>\n",
       "      <td>3a3a6a1aDa3a0a3aDa9a</td>\n",
       "      <td>NaN</td>\n",
       "      <td>7650.0</td>\n",
       "    </tr>\n",
       "  </tbody>\n",
       "</table>\n",
       "</div>"
      ],
      "text/plain": [
       "        raceId           date  horse.genyId               musique  \\\n",
       "403530  950616  1514734200000     2430846.0  3a0a5a0a7a9a4a4a0a6a   \n",
       "403531  950616  1514734200000     2426161.0  6a1a2aDa0a6a8a5a8a9a   \n",
       "403532  950616  1514734200000     2410945.0  8a5a2a5a9aDa2a5aDa3a   \n",
       "403533  950616  1514734200000     2436361.0  3a2aDa2a1a1aDaDaDa4a   \n",
       "403534  950616  1514734200000     2428745.0  3a3a6a1aDa3a0a3aDa9a   \n",
       "\n",
       "        results.position  priceFirst  \n",
       "403530               2.0      7650.0  \n",
       "403531               6.0      7650.0  \n",
       "403532               7.0      7650.0  \n",
       "403533               3.0      7650.0  \n",
       "403534               NaN      7650.0  "
      ]
     },
     "execution_count": 27,
     "metadata": {},
     "output_type": "execute_result"
    }
   ],
   "source": [
    "selected_columns = [\"raceId\", \"date\", \"horse.genyId\", \"musique\", \"results.position\", \"priceFirst\"]\n",
    "df = df[selected_columns]\n",
    "df.tail()"
   ]
  },
  {
   "cell_type": "code",
   "execution_count": 28,
   "metadata": {},
   "outputs": [],
   "source": [
    "df.to_csv(\"../data/interim/performances.csv\")"
   ]
  }
 ],
 "metadata": {
  "interpreter": {
   "hash": "8ca5a46d21a65ac5efef0f5a89abdba75e54154697103f0a9f4ce21397fba764"
  },
  "kernelspec": {
   "display_name": "Python 3.9.9 ('env': venv)",
   "language": "python",
   "name": "python3"
  },
  "language_info": {
   "codemirror_mode": {
    "name": "ipython",
    "version": 3
   },
   "file_extension": ".py",
   "mimetype": "text/x-python",
   "name": "python",
   "nbconvert_exporter": "python",
   "pygments_lexer": "ipython3",
   "version": "3.9.9"
  },
  "orig_nbformat": 4
 },
 "nbformat": 4,
 "nbformat_minor": 2
}
