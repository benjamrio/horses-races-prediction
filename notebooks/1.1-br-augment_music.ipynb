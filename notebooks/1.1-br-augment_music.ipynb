{
 "cells": [
  {
   "cell_type": "markdown",
   "metadata": {},
   "source": [
    "# Augmenting music\n",
    "The music is the performance history of a horse before a race. For each race run by the horse, the music provides the result position and the type of the race. To give more information on the performances to the prediction models, we want to *augment the music* by manually recomposing the music with the races data, and adding new fields. "
   ]
  },
  {
   "cell_type": "code",
   "execution_count": 32,
   "metadata": {},
   "outputs": [],
   "source": [
    "import pandas as pd\n",
    "from tqdm import tqdm\n",
    "import numpy as np\n",
    "import re"
   ]
  },
  {
   "cell_type": "code",
   "execution_count": 33,
   "metadata": {},
   "outputs": [
    {
     "name": "stderr",
     "output_type": "stream",
     "text": [
      "C:\\Users\\benja\\AppData\\Local\\Temp\\ipykernel_17960\\1974482157.py:1: DtypeWarning: Columns (1) have mixed types. Specify dtype option on import or set low_memory=False.\n",
      "  df = pd.read_csv(\"../data/interim/performances.csv\", index_col=0)\n"
     ]
    },
    {
     "data": {
      "text/html": [
       "<div>\n",
       "<style scoped>\n",
       "    .dataframe tbody tr th:only-of-type {\n",
       "        vertical-align: middle;\n",
       "    }\n",
       "\n",
       "    .dataframe tbody tr th {\n",
       "        vertical-align: top;\n",
       "    }\n",
       "\n",
       "    .dataframe thead th {\n",
       "        text-align: right;\n",
       "    }\n",
       "</style>\n",
       "<table border=\"1\" class=\"dataframe\">\n",
       "  <thead>\n",
       "    <tr style=\"text-align: right;\">\n",
       "      <th></th>\n",
       "      <th>raceId</th>\n",
       "      <th>date</th>\n",
       "      <th>horse.genyId</th>\n",
       "      <th>musique</th>\n",
       "      <th>results.position</th>\n",
       "      <th>priceFirst</th>\n",
       "    </tr>\n",
       "  </thead>\n",
       "  <tbody>\n",
       "    <tr>\n",
       "      <th>0</th>\n",
       "      <td>774350</td>\n",
       "      <td>1451650500000</td>\n",
       "      <td>2410353.0</td>\n",
       "      <td>3aDmDmDa4mDaDa8a7m6a</td>\n",
       "      <td>NaN</td>\n",
       "      <td>16200.0</td>\n",
       "    </tr>\n",
       "    <tr>\n",
       "      <th>1</th>\n",
       "      <td>774350</td>\n",
       "      <td>1451650500000</td>\n",
       "      <td>2392855.0</td>\n",
       "      <td>5mDm4mDmDm3m(14)5m1m3m</td>\n",
       "      <td>NaN</td>\n",
       "      <td>16200.0</td>\n",
       "    </tr>\n",
       "    <tr>\n",
       "      <th>2</th>\n",
       "      <td>774350</td>\n",
       "      <td>1451650500000</td>\n",
       "      <td>2368443.0</td>\n",
       "      <td>1m6mDa0a1m5m3mDm(14)Da</td>\n",
       "      <td>6.0</td>\n",
       "      <td>16200.0</td>\n",
       "    </tr>\n",
       "    <tr>\n",
       "      <th>3</th>\n",
       "      <td>774350</td>\n",
       "      <td>1451650500000</td>\n",
       "      <td>2375355.0</td>\n",
       "      <td>5m4m2m0m4m7a3m3mDm4m</td>\n",
       "      <td>1.0</td>\n",
       "      <td>16200.0</td>\n",
       "    </tr>\n",
       "    <tr>\n",
       "      <th>4</th>\n",
       "      <td>774350</td>\n",
       "      <td>1451650500000</td>\n",
       "      <td>2374477.0</td>\n",
       "      <td>0m6a7mDa4aDaDa8a7aDa</td>\n",
       "      <td>5.0</td>\n",
       "      <td>16200.0</td>\n",
       "    </tr>\n",
       "  </tbody>\n",
       "</table>\n",
       "</div>"
      ],
      "text/plain": [
       "   raceId           date  horse.genyId                 musique  \\\n",
       "0  774350  1451650500000     2410353.0    3aDmDmDa4mDaDa8a7m6a   \n",
       "1  774350  1451650500000     2392855.0  5mDm4mDmDm3m(14)5m1m3m   \n",
       "2  774350  1451650500000     2368443.0  1m6mDa0a1m5m3mDm(14)Da   \n",
       "3  774350  1451650500000     2375355.0    5m4m2m0m4m7a3m3mDm4m   \n",
       "4  774350  1451650500000     2374477.0    0m6a7mDa4aDaDa8a7aDa   \n",
       "\n",
       "   results.position  priceFirst  \n",
       "0               NaN     16200.0  \n",
       "1               NaN     16200.0  \n",
       "2               6.0     16200.0  \n",
       "3               1.0     16200.0  \n",
       "4               5.0     16200.0  "
      ]
     },
     "execution_count": 33,
     "metadata": {},
     "output_type": "execute_result"
    }
   ],
   "source": [
    "df = pd.read_csv(\"../data/interim/performances.csv\", index_col=0)\n",
    "df.head()"
   ]
  },
  {
   "cell_type": "markdown",
   "metadata": {},
   "source": [
    "## Preprocessing\n"
   ]
  },
  {
   "cell_type": "markdown",
   "metadata": {},
   "source": [
    "### Date extraction from string data"
   ]
  },
  {
   "cell_type": "code",
   "execution_count": 34,
   "metadata": {},
   "outputs": [
    {
     "name": "stdout",
     "output_type": "stream",
     "text": [
      "pmu_race:01012016/R1/C1\n"
     ]
    },
    {
     "data": {
      "text/plain": [
       "Timestamp('2016-01-01 00:00:00')"
      ]
     },
     "execution_count": 34,
     "metadata": {},
     "output_type": "execute_result"
    }
   ],
   "source": [
    "def extract_date(raceId):\n",
    "    print(raceId)\n",
    "    date_word = re.search(r'(?<=\\:)(.*?)(?=\\/)', raceId).group(0)\n",
    "    result = pd.to_datetime(date_word, format=\"%m%d%Y\")\n",
    "    \n",
    "    return result\n",
    "extract_date(\"pmu_race:01012016/R1/C1\")"
   ]
  },
  {
   "cell_type": "code",
   "execution_count": null,
   "metadata": {},
   "outputs": [],
   "source": []
  },
  {
   "cell_type": "markdown",
   "metadata": {},
   "source": [
    "Date ms to datetime"
   ]
  },
  {
   "cell_type": "code",
   "execution_count": 35,
   "metadata": {},
   "outputs": [],
   "source": [
    "df[\"date\"] = pd.to_datetime(df[\"date\"], unit=\"ms\")"
   ]
  },
  {
   "cell_type": "markdown",
   "metadata": {},
   "source": [
    "### Results position\n",
    "The result positions of the performances are biaised by the number of the competing horses in the race.  "
   ]
  },
  {
   "cell_type": "code",
   "execution_count": 36,
   "metadata": {},
   "outputs": [],
   "source": [
    "def clean_results_position(results_position):\n",
    "    if pd.isnull(results_position):\n",
    "        return 10\n",
    "    else:\n",
    "        return (max(int(results_position), 10))\n",
    "\n",
    "df[\"results.position\"] = df[\"results.position\"].apply(clean_results_position)"
   ]
  },
  {
   "cell_type": "markdown",
   "metadata": {},
   "source": [
    "##  Music augmentation"
   ]
  },
  {
   "cell_type": "markdown",
   "metadata": {},
   "source": [
    "## Music cleaning"
   ]
  },
  {
   "cell_type": "code",
   "execution_count": 37,
   "metadata": {},
   "outputs": [],
   "source": [
    "import re\n",
    "def clean_music_to_list(musique):\n",
    "    '''Nettoie la musique (retire les lettres et supprime les nombres entre parenthèses)\n",
    "    '''\n",
    "    if pd.isnull(musique):\n",
    "      return []\n",
    "    \n",
    "    musique = re.sub(r'\\([^)]*\\)', \"\", musique)\n",
    "    musique = re.sub(\"[^1-9]\", \" \", musique)\n",
    "    musique = musique.split()\n",
    "    return musique\n",
    "\n",
    "df[\"cleaned_music\"] = df[\"musique\"].apply(clean_music_to_list)"
   ]
  },
  {
   "cell_type": "code",
   "execution_count": 38,
   "metadata": {},
   "outputs": [
    {
     "data": {
      "text/html": [
       "<div>\n",
       "<style scoped>\n",
       "    .dataframe tbody tr th:only-of-type {\n",
       "        vertical-align: middle;\n",
       "    }\n",
       "\n",
       "    .dataframe tbody tr th {\n",
       "        vertical-align: top;\n",
       "    }\n",
       "\n",
       "    .dataframe thead th {\n",
       "        text-align: right;\n",
       "    }\n",
       "</style>\n",
       "<table border=\"1\" class=\"dataframe\">\n",
       "  <thead>\n",
       "    <tr style=\"text-align: right;\">\n",
       "      <th></th>\n",
       "      <th>raceId</th>\n",
       "      <th>date</th>\n",
       "      <th>horse.genyId</th>\n",
       "      <th>musique</th>\n",
       "      <th>results.position</th>\n",
       "      <th>priceFirst</th>\n",
       "      <th>cleaned_music</th>\n",
       "    </tr>\n",
       "  </thead>\n",
       "  <tbody>\n",
       "    <tr>\n",
       "      <th>0</th>\n",
       "      <td>774350</td>\n",
       "      <td>2016-01-01 12:15:00</td>\n",
       "      <td>2410353.0</td>\n",
       "      <td>3aDmDmDa4mDaDa8a7m6a</td>\n",
       "      <td>10</td>\n",
       "      <td>16200.0</td>\n",
       "      <td>[3, 4, 8, 7, 6]</td>\n",
       "    </tr>\n",
       "    <tr>\n",
       "      <th>1</th>\n",
       "      <td>774350</td>\n",
       "      <td>2016-01-01 12:15:00</td>\n",
       "      <td>2392855.0</td>\n",
       "      <td>5mDm4mDmDm3m(14)5m1m3m</td>\n",
       "      <td>10</td>\n",
       "      <td>16200.0</td>\n",
       "      <td>[5, 4, 3, 5, 1, 3]</td>\n",
       "    </tr>\n",
       "    <tr>\n",
       "      <th>2</th>\n",
       "      <td>774350</td>\n",
       "      <td>2016-01-01 12:15:00</td>\n",
       "      <td>2368443.0</td>\n",
       "      <td>1m6mDa0a1m5m3mDm(14)Da</td>\n",
       "      <td>10</td>\n",
       "      <td>16200.0</td>\n",
       "      <td>[1, 6, 1, 5, 3]</td>\n",
       "    </tr>\n",
       "    <tr>\n",
       "      <th>3</th>\n",
       "      <td>774350</td>\n",
       "      <td>2016-01-01 12:15:00</td>\n",
       "      <td>2375355.0</td>\n",
       "      <td>5m4m2m0m4m7a3m3mDm4m</td>\n",
       "      <td>10</td>\n",
       "      <td>16200.0</td>\n",
       "      <td>[5, 4, 2, 4, 7, 3, 3, 4]</td>\n",
       "    </tr>\n",
       "    <tr>\n",
       "      <th>4</th>\n",
       "      <td>774350</td>\n",
       "      <td>2016-01-01 12:15:00</td>\n",
       "      <td>2374477.0</td>\n",
       "      <td>0m6a7mDa4aDaDa8a7aDa</td>\n",
       "      <td>10</td>\n",
       "      <td>16200.0</td>\n",
       "      <td>[6, 7, 4, 8, 7]</td>\n",
       "    </tr>\n",
       "  </tbody>\n",
       "</table>\n",
       "</div>"
      ],
      "text/plain": [
       "   raceId                date  horse.genyId                 musique  \\\n",
       "0  774350 2016-01-01 12:15:00     2410353.0    3aDmDmDa4mDaDa8a7m6a   \n",
       "1  774350 2016-01-01 12:15:00     2392855.0  5mDm4mDmDm3m(14)5m1m3m   \n",
       "2  774350 2016-01-01 12:15:00     2368443.0  1m6mDa0a1m5m3mDm(14)Da   \n",
       "3  774350 2016-01-01 12:15:00     2375355.0    5m4m2m0m4m7a3m3mDm4m   \n",
       "4  774350 2016-01-01 12:15:00     2374477.0    0m6a7mDa4aDaDa8a7aDa   \n",
       "\n",
       "   results.position  priceFirst             cleaned_music  \n",
       "0                10     16200.0           [3, 4, 8, 7, 6]  \n",
       "1                10     16200.0        [5, 4, 3, 5, 1, 3]  \n",
       "2                10     16200.0           [1, 6, 1, 5, 3]  \n",
       "3                10     16200.0  [5, 4, 2, 4, 7, 3, 3, 4]  \n",
       "4                10     16200.0           [6, 7, 4, 8, 7]  "
      ]
     },
     "execution_count": 38,
     "metadata": {},
     "output_type": "execute_result"
    }
   ],
   "source": [
    "df.head()"
   ]
  },
  {
   "cell_type": "code",
   "execution_count": 39,
   "metadata": {},
   "outputs": [],
   "source": [
    "musics = pd.DataFrame()\n",
    "selected_columns = ['results.position', 'priceFirst', 'date']\n",
    "def get_music(horse):\n",
    "  first_music = horse['cleaned_music'].iloc[0]\n",
    "  augmented_music = horse[['results.position', 'priceFirst', 'date']].values\n",
    "  if first_music:\n",
    "    augmented_music = np.vstack([[[float(result), np.NaN , np.NaN] for result in first_music], augmented_music])\n",
    "  return augmented_music"
   ]
  },
  {
   "cell_type": "code",
   "execution_count": 40,
   "metadata": {},
   "outputs": [],
   "source": [
    "musique = df.groupby(['horse.genyId']).apply(get_music)"
   ]
  },
  {
   "cell_type": "code",
   "execution_count": 42,
   "metadata": {},
   "outputs": [],
   "source": [
    "musique.to_csv(\"../data/interim/musique.csv\")"
   ]
  },
  {
   "cell_type": "code",
   "execution_count": null,
   "metadata": {},
   "outputs": [],
   "source": []
  }
 ],
 "metadata": {
  "interpreter": {
   "hash": "8ca5a46d21a65ac5efef0f5a89abdba75e54154697103f0a9f4ce21397fba764"
  },
  "kernelspec": {
   "display_name": "Python 3.9.9 ('env': venv)",
   "language": "python",
   "name": "python3"
  },
  "language_info": {
   "codemirror_mode": {
    "name": "ipython",
    "version": 3
   },
   "file_extension": ".py",
   "mimetype": "text/x-python",
   "name": "python",
   "nbconvert_exporter": "python",
   "pygments_lexer": "ipython3",
   "version": "3.9.9"
  },
  "orig_nbformat": 4
 },
 "nbformat": 4,
 "nbformat_minor": 2
}
